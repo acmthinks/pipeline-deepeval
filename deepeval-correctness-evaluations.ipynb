{
 "cells": [
  {
   "cell_type": "markdown",
   "id": "c275973f-b0bf-437c-9971-b1cf62b6d932",
   "metadata": {
    "papermill": {
     "duration": 0.008783,
     "end_time": "2021-07-14T23:45:30.348760",
     "exception": false,
     "start_time": "2021-07-14T23:45:30.339977",
     "status": "completed"
    },
    "tags": []
   },
   "source": [
    "## Evaluate model using GEval \"Correctness\""
   ]
  },
  {
   "cell_type": "markdown",
   "id": "b75b75d4-cd39-4981-ae73-a1016b910f4b",
   "metadata": {},
   "source": [
    "### install `deepeval`"
   ]
  },
  {
   "cell_type": "code",
   "execution_count": null,
   "id": "8a2f3aab",
   "metadata": {
    "papermill": {
     "duration": 0.070832,
     "end_time": "2021-07-14T23:45:30.427472",
     "exception": false,
     "start_time": "2021-07-14T23:45:30.356640",
     "status": "completed"
    },
    "tags": []
   },
   "outputs": [],
   "source": [
    "!pip install deepeval"
   ]
  },
  {
   "cell_type": "markdown",
   "id": "ae03a187-bc14-4b86-a385-f20a8f8e94e8",
   "metadata": {},
   "source": [
    "### Retreive PIPELINE PARAMETER values to use"
   ]
  },
  {
   "cell_type": "code",
   "execution_count": null,
   "id": "952ce0e0-021b-45ce-88db-ff9938d8a4ea",
   "metadata": {
    "editable": true,
    "slideshow": {
     "slide_type": ""
    },
    "tags": []
   },
   "outputs": [],
   "source": [
    "model_name = \"model-granite-33-8b-instruct\"\n",
    "llm_base_url = \"https://model-granite-33-8b-instruct-aal4lab-v1.l4-lab-paas-rhoai-946464-1cce585f5a0d7ffedb5150cacf858bae-0000.br-sao.containers.appdomain.cloud/v1\""
   ]
  },
  {
   "cell_type": "markdown",
   "id": "85cfa27c",
   "metadata": {
    "editable": true,
    "papermill": {
     "duration": 0.004601,
     "end_time": "2021-07-14T23:45:30.462495",
     "exception": false,
     "start_time": "2021-07-14T23:45:30.457894",
     "status": "completed"
    },
    "slideshow": {
     "slide_type": ""
    },
    "tags": []
   },
   "source": [
    "## Configure `deepeval` to invoke a local model running on our OpenShift AI cluster"
   ]
  },
  {
   "cell_type": "code",
   "execution_count": null,
   "id": "a4ffffc4",
   "metadata": {
    "editable": true,
    "papermill": {
     "duration": 0.009866,
     "end_time": "2021-07-14T23:45:30.452696",
     "exception": false,
     "start_time": "2021-07-14T23:45:30.442830",
     "status": "completed"
    },
    "slideshow": {
     "slide_type": ""
    },
    "tags": []
   },
   "outputs": [],
   "source": [
    "!deepeval set-local-model --model-name={model_name} --base-url={llm_base_url} --api-key=None"
   ]
  },
  {
   "cell_type": "markdown",
   "id": "83173789-a6c2-4114-8c9e-fbe7067c4b3e",
   "metadata": {},
   "source": [
    "## Run `deepeval` metric set"
   ]
  },
  {
   "cell_type": "code",
   "execution_count": null,
   "id": "9c83e6c5-ed9c-434b-b7b5-eca333121be4",
   "metadata": {},
   "outputs": [],
   "source": [
    "!deepeval test run test_correctness.py"
   ]
  }
 ],
 "metadata": {
  "kernelspec": {
   "display_name": "Python 3.11",
   "language": "python",
   "name": "python3"
  },
  "language_info": {
   "codemirror_mode": {
    "name": "ipython",
    "version": 3
   },
   "file_extension": ".py",
   "mimetype": "text/x-python",
   "name": "python",
   "nbconvert_exporter": "python",
   "pygments_lexer": "ipython3",
   "version": "3.11.9"
  },
  "papermill": {
   "duration": 2.43342,
   "end_time": "2021-07-14T23:45:31.825444",
   "environment_variables": {},
   "exception": null,
   "input_path": "/Users/patti/elyra_dev/update-examples/workspace/examples/pipelines/introduction-to-generic-pipelines/load_data.ipynb",
   "output_path": "/Users/patti/elyra_dev/update-examples/workspace/examples/pipelines/introduction-to-generic-pipelines/load_data.ipynb",
   "parameters": {},
   "start_time": "2021-07-14T23:45:29.392024",
   "version": "2.1.1"
  }
 },
 "nbformat": 4,
 "nbformat_minor": 5
}
